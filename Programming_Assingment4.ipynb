{
 "cells": [
  {
   "cell_type": "markdown",
   "id": "88b9601a",
   "metadata": {},
   "source": [
    "1.\tWrite a Python Program to Find the Factorial of a Number?\n",
    "2.\tWrite a Python Program to Display the multiplication Table?\n",
    "3.\tWrite a Python Program to Print the Fibonacci sequence?\n",
    "4.\tWrite a Python Program to Check Armstrong Number?\n",
    "5.\tWrite a Python Program to Find Armstrong Number in an Interval?\n",
    "6.\tWrite a Python Program to Find the Sum of Natural Numbers?"
   ]
  },
  {
   "cell_type": "code",
   "execution_count": 41,
   "id": "86101cdf",
   "metadata": {},
   "outputs": [
    {
     "name": "stdout",
     "output_type": "stream",
     "text": [
      "Enter the number to find the factorial of itself: 10\n",
      "3628800\n"
     ]
    }
   ],
   "source": [
    "#1 Write a Python Program to Find the Factorial of a Number?\n",
    "\n",
    "n=int(input(\"Enter the number to find the factorial of itself: \"))\n",
    "a=1\n",
    "for i in range(1,n+1):\n",
    "    a*=i\n",
    "print(a)"
   ]
  },
  {
   "cell_type": "code",
   "execution_count": 35,
   "id": "c30d6c41",
   "metadata": {},
   "outputs": [
    {
     "name": "stdout",
     "output_type": "stream",
     "text": [
      "Enter the number: 5\n",
      "  0    1    2    3    4    5  \n",
      "\n",
      "  1    1    2    3    4    5  \n",
      "\n",
      "  2    2    4    6    8    10 \n",
      "\n",
      "  3    3    6    9    12   15 \n",
      "\n",
      "  4    4    8    12   16   20 \n",
      "\n",
      "  5    5    10   15   20   25 \n",
      "\n"
     ]
    }
   ],
   "source": [
    "#2 Write a Python Program to Display the multiplication Table?\n",
    "\n",
    "n=int(input(\"Enter the number: \"))\n",
    "for i in range (n+1):\n",
    "    print(str(i).center(5), end = \"\")\n",
    "print('\\n')\n",
    "for i in range (1, n+1):\n",
    "    print(str(i).center(5), end=\"\")\n",
    "    for j in range(1, n+1):\n",
    "        print(str(i*j).center(5), end = \"\")\n",
    "    print('\\n')"
   ]
  },
  {
   "cell_type": "code",
   "execution_count": 66,
   "id": "a3d9eb82",
   "metadata": {},
   "outputs": [
    {
     "name": "stdout",
     "output_type": "stream",
     "text": [
      "0\n",
      "1\n",
      "1\n",
      "2\n",
      "3\n",
      "5\n",
      "8\n",
      "13\n",
      "21\n",
      "34\n"
     ]
    }
   ],
   "source": [
    "#3 Write a Python Program to Print the Fibonacci sequence?\n",
    "def fibonacci_seq(upp_limit):\n",
    "    a=0\n",
    "    b=1\n",
    "    if upp_limit == 0:\n",
    "        return upp_limit\n",
    "    if upp_limit == 1:\n",
    "        return upp_limit\n",
    "    for i in range(upp_limit):\n",
    "        if i==0 or i == 1:\n",
    "            print(i)\n",
    "        else:\n",
    "            c = a + b\n",
    "            a = b\n",
    "            b = c\n",
    "            print(b)\n",
    "fibonacci_seq(10)"
   ]
  },
  {
   "cell_type": "code",
   "execution_count": 56,
   "id": "c5d22779",
   "metadata": {},
   "outputs": [
    {
     "name": "stdout",
     "output_type": "stream",
     "text": [
      "Enter the number: 153\n",
      "The given number is an Armstrong Number\n"
     ]
    }
   ],
   "source": [
    "#4 Write a Python Program to Check Armstrong Number?\n",
    "\n",
    "a=int(input(\"Enter the number: \"))\n",
    "sum=0\n",
    "for i in str(a):\n",
    "    i=int(i)\n",
    "    sum+=i**len(str(a))\n",
    "if a==sum:\n",
    "    print(\"The given number is an Armstrong Number\")\n",
    "else:\n",
    "    print(\"The given number is not an Armstrong Number\")"
   ]
  },
  {
   "cell_type": "code",
   "execution_count": 109,
   "id": "ebebc9ef",
   "metadata": {},
   "outputs": [
    {
     "name": "stdout",
     "output_type": "stream",
     "text": [
      "153\n",
      "370\n",
      "371\n",
      "407\n"
     ]
    }
   ],
   "source": [
    "#5. Write a Python Program to Find Armstrong Number in an Interval?\n",
    "\n",
    "def armstrong_number(min_num, max_num):\n",
    "    for a in range(min_num, max_num + 1):\n",
    "        sum=0\n",
    "        for i in str(a):\n",
    "            i=int(i)\n",
    "            sum+=i**len(str(a))\n",
    "        if a==sum:\n",
    "            print(a)\n",
    "\n",
    "armstrong_number(100, 1000)"
   ]
  },
  {
   "cell_type": "code",
   "execution_count": 8,
   "id": "b71b71bf",
   "metadata": {},
   "outputs": [
    {
     "name": "stdout",
     "output_type": "stream",
     "text": [
      "125250\n"
     ]
    }
   ],
   "source": [
    "#6. Write a Python Program to Find the Sum of Natural Numbers?\n",
    "\n",
    "def sum_of_natural_no(low_limit, upp_limit):\n",
    "    sum_s=0\n",
    "    for i in range(low_limit, upp_limit+1):\n",
    "        sum_s+=i\n",
    "    print(sum_s)\n",
    "sum_of_natural_no(1,500)"
   ]
  },
  {
   "cell_type": "code",
   "execution_count": 43,
   "id": "62591763",
   "metadata": {},
   "outputs": [
    {
     "name": "stdout",
     "output_type": "stream",
     "text": [
      "3\n",
      "5\n",
      "7\n",
      "9\n",
      "11\n"
     ]
    }
   ],
   "source": [
    "#3 Write a Python Program to Print the Fibonacci sequence?\n",
    "def fibonacci_seq(low_limit, upp_limit):\n",
    "    for i in range(low_limit, upp_limit+1):\n",
    "        for j in range(0, i+1):\n",
    "            if (j) == i-1:\n",
    "                print(i+j)\n",
    "fibonacci_seq(2,6)"
   ]
  },
  {
   "cell_type": "code",
   "execution_count": null,
   "id": "03ffd85b",
   "metadata": {},
   "outputs": [],
   "source": []
  }
 ],
 "metadata": {
  "kernelspec": {
   "display_name": "Python 3 (ipykernel)",
   "language": "python",
   "name": "python3"
  },
  "language_info": {
   "codemirror_mode": {
    "name": "ipython",
    "version": 3
   },
   "file_extension": ".py",
   "mimetype": "text/x-python",
   "name": "python",
   "nbconvert_exporter": "python",
   "pygments_lexer": "ipython3",
   "version": "3.9.12"
  }
 },
 "nbformat": 4,
 "nbformat_minor": 5
}
