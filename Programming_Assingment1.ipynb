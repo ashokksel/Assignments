{
 "cells": [
  {
   "cell_type": "raw",
   "id": "c17d9c31",
   "metadata": {},
   "source": [
    "1. Write a Python program to print \"Hello Python\"?\n",
    "2. Write a Python program to do arithmetical operations addition and division.?\n",
    "3. Write a Python program to find the area of a triangle?\n",
    "4. Write a Python program to swap two variables?\n",
    "5. Write a Python program to generate a random number?"
   ]
  },
  {
   "cell_type": "code",
   "execution_count": 1,
   "id": "b68e2aa9",
   "metadata": {},
   "outputs": [
    {
     "name": "stdout",
     "output_type": "stream",
     "text": [
      "Hello Python\n"
     ]
    }
   ],
   "source": [
    "#1. Write a Python program to print &quot;Hello Python&quot;?\n",
    "a=\"Hello Python\"\n",
    "print(a)"
   ]
  },
  {
   "cell_type": "code",
   "execution_count": 3,
   "id": "09d60620",
   "metadata": {},
   "outputs": [
    {
     "name": "stdout",
     "output_type": "stream",
     "text": [
      "Input first Number: 10\n",
      "Input second Number: 2\n",
      "Addition of two numbers is 12\n",
      "Division of two numbers is 5\n"
     ]
    }
   ],
   "source": [
    "#2. Write a Python program to do arithmetical operations addition and division.?\n",
    "a=int(input(\"Input first Number: \"))\n",
    "b=int(input(\"Input second Number: \"))\n",
    "c=a+b\n",
    "d=round(a/b)\n",
    "print(\"Addition of two numbers is\", c)\n",
    "print(\"Division of two numbers is\", d)"
   ]
  },
  {
   "cell_type": "code",
   "execution_count": 4,
   "id": "d92154be",
   "metadata": {},
   "outputs": [
    {
     "name": "stdout",
     "output_type": "stream",
     "text": [
      "Input base in cm : 10\n",
      "Input height in cm : 15\n",
      "Area of triangle is : 75.0  sq.cm\n"
     ]
    }
   ],
   "source": [
    "#3. Write a Python program to find the area of a triangle?\n",
    "\n",
    "base_b=int(input(\"Input base in cm : \"))\n",
    "height_h=int(input(\"Input height in cm : \"))\n",
    "area = 0.5*base_b*height_h\n",
    "print(\"Area of triangle is :\",area,\" sq.cm\")"
   ]
  },
  {
   "cell_type": "code",
   "execution_count": 12,
   "id": "0b1cbdb3",
   "metadata": {},
   "outputs": [
    {
     "name": "stdout",
     "output_type": "stream",
     "text": [
      "Input first Number Value 1 : 10\n",
      "Input second Number value 2 : 20\n",
      "Values Before SWAP Value 1: 10, Value 2 20\n",
      "Values After SWAP Value 1: 20, Value 2 10\n"
     ]
    }
   ],
   "source": [
    "#4. Write a Python program to swap two variables?\n",
    "\n",
    "s1=int(input(\"Input first Number Value 1 : \"))\n",
    "s2=int(input(\"Input second Number value 2 : \"))\n",
    "print(f\"Values Before SWAP Value 1: {s1}, Value 2 {s2}\")\n",
    "s1, s2 = s2, s1\n",
    "print(f\"Values After SWAP Value 1: {s1}, Value 2 {s2}\")"
   ]
  },
  {
   "cell_type": "code",
   "execution_count": 13,
   "id": "a2d6be32",
   "metadata": {},
   "outputs": [
    {
     "name": "stdout",
     "output_type": "stream",
     "text": [
      "97\n"
     ]
    }
   ],
   "source": [
    "#5. Write a Python program to generate a random number?\n",
    "r1=10\n",
    "r2=100\n",
    "import random\n",
    "print(random.randint(r1,r2))"
   ]
  },
  {
   "cell_type": "code",
   "execution_count": null,
   "id": "7be5642e",
   "metadata": {},
   "outputs": [],
   "source": []
  }
 ],
 "metadata": {
  "kernelspec": {
   "display_name": "Python 3 (ipykernel)",
   "language": "python",
   "name": "python3"
  },
  "language_info": {
   "codemirror_mode": {
    "name": "ipython",
    "version": 3
   },
   "file_extension": ".py",
   "mimetype": "text/x-python",
   "name": "python",
   "nbconvert_exporter": "python",
   "pygments_lexer": "ipython3",
   "version": "3.9.12"
  }
 },
 "nbformat": 4,
 "nbformat_minor": 5
}
