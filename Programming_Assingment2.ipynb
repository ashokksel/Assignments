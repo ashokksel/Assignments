{
 "cells": [
  {
   "cell_type": "raw",
   "id": "d431dd0e",
   "metadata": {},
   "source": [
    "1.\tWrite a Python program to convert kilometers to miles?\n",
    "2.\tWrite a Python program to convert Celsius to Fahrenheit?\n",
    "3.\tWrite a Python program to display calendar?\n",
    "4.\tWrite a Python program to solve quadratic equation?\n",
    "5.\tWrite a Python program to swap two variables without temp variable?\n"
   ]
  },
  {
   "cell_type": "code",
   "execution_count": 6,
   "id": "847889ff",
   "metadata": {},
   "outputs": [
    {
     "name": "stdout",
     "output_type": "stream",
     "text": [
      "Enter the distance in Km: 100\n",
      "Diatnce in miles is : 62.14 miles\n"
     ]
    }
   ],
   "source": [
    "#1.Write a Python program to convert kilometers to miles?\n",
    "\n",
    "distance_in_km = int(input(\"Enter the distance in Km: \"))\n",
    "distance_in_miles=round(0.62137119*distance_in_km,2)\n",
    "print(f\"Diatnce in miles is : {distance_in_miles} miles\")"
   ]
  },
  {
   "cell_type": "code",
   "execution_count": 12,
   "id": "80354a51",
   "metadata": {},
   "outputs": [
    {
     "name": "stdout",
     "output_type": "stream",
     "text": [
      "Enter the Temperature in °C: 36\n",
      "Temperature in F is : 96.8°F\n"
     ]
    }
   ],
   "source": [
    "#2.\tWrite a Python program to convert Celsius to Fahrenheit?\n",
    "\n",
    "temp_in_C = float(input(\"Enter the Temperature in °C: \"))\n",
    "temp_in_F=round(((temp_in_C * 1.8) + 32),2)\n",
    "print(f\"Temperature in F is : {temp_in_F}°F\")"
   ]
  },
  {
   "cell_type": "code",
   "execution_count": 13,
   "id": "9d832100",
   "metadata": {},
   "outputs": [
    {
     "name": "stdout",
     "output_type": "stream",
     "text": [
      "Enter year: 2000\n",
      "Enter month: 02\n",
      "   February 2000\n",
      "Mo Tu We Th Fr Sa Su\n",
      "    1  2  3  4  5  6\n",
      " 7  8  9 10 11 12 13\n",
      "14 15 16 17 18 19 20\n",
      "21 22 23 24 25 26 27\n",
      "28 29\n",
      "\n"
     ]
    }
   ],
   "source": [
    "#3.\tWrite a Python program to display calendar?\n",
    "\n",
    "import calendar\n",
    "yy = int(input(\"Enter year: \"))\n",
    "mm = int(input(\"Enter month: \"))\n",
    "print(calendar.month(yy, mm))\n"
   ]
  },
  {
   "cell_type": "code",
   "execution_count": 48,
   "id": "68021f37",
   "metadata": {},
   "outputs": [
    {
     "name": "stdout",
     "output_type": "stream",
     "text": [
      "Roots are real and same\n",
      "-1.0\n"
     ]
    }
   ],
   "source": [
    "#4.\tWrite a Python program to solve quadratic equation?\n",
    "\n",
    "import math\n",
    "def find_Roots(a, b, c):\n",
    "    if a == 0:\n",
    "        print(\"Invalid\")\n",
    "        return -1\n",
    "    d = b * b - 4 * a * c\n",
    "    sqrt_val = math.sqrt(abs(d))\n",
    "    if d > 0:\n",
    "        print(\"Roots are real and different \")\n",
    "        print((-b + sqrt_val)/(2 * a))\n",
    "        print((-b - sqrt_val)/(2 * a))\n",
    "    elif d == 0:\n",
    "        print(\"Roots are real and same\")\n",
    "        print(-b / (2*a))\n",
    "    else: # d<0\n",
    "        print(\"Roots are complex\")\n",
    "        print(- b / (2*a), \" + i\", sqrt_val/ (2 * a))\n",
    "        print(- b / (2*a), \" - i\", sqrt_val/ (2 * a))\n",
    "find_Roots(2, 4, 2)\n"
   ]
  },
  {
   "cell_type": "code",
   "execution_count": 19,
   "id": "d38d22c6",
   "metadata": {},
   "outputs": [
    {
     "name": "stdout",
     "output_type": "stream",
     "text": [
      "Input first Variable 1 : Ashok\n",
      "Input second Variable 2 : Sindhu\n",
      "Before SWAP Variable 1: Ashok, Variable 2: Sindhu\n",
      "After SWAP Variable 1: Sindhu, Variable 2: Ashok\n"
     ]
    }
   ],
   "source": [
    "#5. Write a Python program to swap two variables without temp variable?\n",
    "\n",
    "s1=input(\"Input first Variable 1 : \")\n",
    "s2=input(\"Input second Variable 2 : \")\n",
    "print(f\"Before SWAP Variable 1: {s1}, Variable 2: {s2}\")\n",
    "s1, s2 = s2, s1\n",
    "print(f\"After SWAP Variable 1: {s1}, Variable 2: {s2}\")"
   ]
  },
  {
   "cell_type": "code",
   "execution_count": null,
   "id": "985c68cd",
   "metadata": {},
   "outputs": [],
   "source": []
  }
 ],
 "metadata": {
  "kernelspec": {
   "display_name": "Python 3 (ipykernel)",
   "language": "python",
   "name": "python3"
  },
  "language_info": {
   "codemirror_mode": {
    "name": "ipython",
    "version": 3
   },
   "file_extension": ".py",
   "mimetype": "text/x-python",
   "name": "python",
   "nbconvert_exporter": "python",
   "pygments_lexer": "ipython3",
   "version": "3.9.12"
  }
 },
 "nbformat": 4,
 "nbformat_minor": 5
}
